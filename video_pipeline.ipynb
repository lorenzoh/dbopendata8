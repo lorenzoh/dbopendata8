{
 "cells": [
  {
   "cell_type": "code",
   "execution_count": 2,
   "metadata": {
    "collapsed": true
   },
   "outputs": [],
   "source": [
    "import os\n",
    "import cv2\n",
    "import matplotlib.pyplot as plt\n",
    "import seaborn as sns\n",
    "%load_ext autoreload\n",
    "%autoreload 2\n",
    "%matplotlib inline\n",
    "\n",
    "import video_utils\n",
    "import vis"
   ]
  },
  {
   "cell_type": "markdown",
   "metadata": {},
   "source": [
    "# Object detection on video\n",
    "This notebook goes through object detection on a video using the TensorFlow Object detection API"
   ]
  },
  {
   "cell_type": "code",
   "execution_count": 3,
   "metadata": {
    "collapsed": true
   },
   "outputs": [],
   "source": [
    "# Your video file\n",
    "VIDEO_PATH = os.path.join('data', 'train_video.mp4')\n",
    "\n",
    "# Where to save frames\n",
    "FRAMES_DIR = os.path.join('data', 'framesall')\n",
    "CUT_FRAMES_DIR = os.path.join('data', 'framesall_cut')\n",
    "\n",
    "# If you want to downsample frames, you can set this > 1\n",
    "EVERY_NTH_FRAME = 1"
   ]
  },
  {
   "cell_type": "code",
   "execution_count": null,
   "metadata": {
    "collapsed": true,
    "scrolled": true
   },
   "outputs": [],
   "source": [
    "# Sample frames from mp4\n",
    "video_utils.mp4_to_jpg(VIDEO_PATH, FRAMES_DIR, skipframes=EVERY_NTH_FRAME)"
   ]
  },
  {
   "cell_type": "code",
   "execution_count": null,
   "metadata": {
    "collapsed": true,
    "scrolled": true
   },
   "outputs": [],
   "source": [
    "# Specify ROI\n",
    "corners_ur = ((640, 40), (1180, 370))  # (upper left corner, bottom right corner)\n",
    "\n",
    "# Cut frames to fit ROI and save in CUT_FRAMES_DIR\n",
    "video_utils.cut_frames(FRAMES_DIR, CUT_FRAMES_DIR, corners_ur)"
   ]
  },
  {
   "cell_type": "markdown",
   "metadata": {},
   "source": [
    "## Inference\n",
    "Use `inference.py` in the object_detection directory of tensorflow/models:\n",
    "\n",
    "```\n",
    "python inference.py [path to frames]\n",
    "```\n",
    "\n",
    "The detections will be saved to `detections.pkl`"
   ]
  },
  {
   "cell_type": "markdown",
   "metadata": {},
   "source": [
    "## Visualization"
   ]
  },
  {
   "cell_type": "code",
   "execution_count": 5,
   "metadata": {
    "scrolled": false
   },
   "outputs": [
    {
     "name": "stderr",
     "output_type": "stream",
     "text": [
      "100%|██████████████████████████████████████████████████████████████████████████████| 1615/1615 [00:27<00:00, 59.37it/s]\n"
     ]
    }
   ],
   "source": [
    "\n",
    "DETECTIONS_PATH = os.path.join('detections', 'detections.pkl')  # Path to output detections.pkl\n",
    "\n",
    "# Visualize bounding boxes\n",
    "imgs = vis.visualize_preds(CUT_FRAMES_DIR, DETECTIONS_PATH)"
   ]
  },
  {
   "cell_type": "code",
   "execution_count": 6,
   "metadata": {
    "collapsed": true
   },
   "outputs": [],
   "source": [
    "# Merge frames to video\n",
    "FPS = 30\n",
    "video_utils.write_video('demo.mp4', imgs, fps=FPS)"
   ]
  }
 ],
 "metadata": {
  "kernelspec": {
   "display_name": "Python 3",
   "language": "python",
   "name": "python3"
  },
  "language_info": {
   "codemirror_mode": {
    "name": "ipython",
    "version": 3
   },
   "file_extension": ".py",
   "mimetype": "text/x-python",
   "name": "python",
   "nbconvert_exporter": "python",
   "pygments_lexer": "ipython3",
   "version": "3.6.2"
  }
 },
 "nbformat": 4,
 "nbformat_minor": 2
}
